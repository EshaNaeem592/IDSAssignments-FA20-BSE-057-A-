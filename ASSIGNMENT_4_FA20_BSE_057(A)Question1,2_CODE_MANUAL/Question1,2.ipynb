{
  "nbformat": 4,
  "nbformat_minor": 0,
  "metadata": {
    "colab": {
      "provenance": []
    },
    "kernelspec": {
      "name": "python3",
      "display_name": "Python 3"
    },
    "language_info": {
      "name": "python"
    }
  },
  "cells": [
    {
      "cell_type": "code",
      "source": [
        "# 11-dec-2023\n",
        "# CSC461 – IDS Assignment4 – NLP\n",
        "# Esha Naeem\n",
        "# FA20-BSE-057(A)\n",
        "# A brief description of the task IS:  finded BoW, TF, IDF, and then TF.IDF  values for each term in the following three sentences.and then find similarities of cosine, manhattan, and euclidean distances of each vectors\n",
        "# Solution of both Question1 and Question2\n",
        "# Import important libraries\n",
        "from sklearn.feature_extraction.text import CountVectorizer, TfidfVectorizer\n",
        "from sklearn.metrics.pairwise import cosine_similarity\n",
        "import pandas as pd\n",
        "from scipy.spatial.distance import cityblock\n",
        "import math"
      ],
      "metadata": {
        "id": "hnzsyZy_m30K"
      },
      "execution_count": 24,
      "outputs": []
    },
    {
      "cell_type": "code",
      "source": [
        "# Generate three simple texts as examples\n",
        "text_1 = \"data science is one of the most important courses in computer science\"\n",
        "text_2 = \"this is one of the best data science courses\"\n",
        "text_3 = \"the data scientists perform data analysis\""
      ],
      "metadata": {
        "id": "RUUwZzLdnAix"
      },
      "execution_count": 4,
      "outputs": []
    },
    {
      "cell_type": "code",
      "source": [
        "# Combine texts to make a corpus\n",
        "data_exp1 = [text_1, text_2, text_3]\n"
      ],
      "metadata": {
        "id": "fVO3Q7cWnD4X"
      },
      "execution_count": 5,
      "outputs": []
    },
    {
      "cell_type": "code",
      "source": [
        "# Create a reference object to the CountVectorizer constructor\n",
        "# Use the reference object to generate BoW matrix using the fit_transform() function\n",
        "count_vectorizer = CountVectorizer()\n",
        "c_vector_matrix_exp1 = count_vectorizer.fit_transform(data_exp1)"
      ],
      "metadata": {
        "id": "Yv6IxrRpoe9K"
      },
      "execution_count": 6,
      "outputs": []
    },
    {
      "cell_type": "code",
      "source": [
        "# Use get_feature_names_out() to extract vocabulary\n",
        "c_tokens_exp1 = count_vectorizer.get_feature_names_out()\n",
        "\n",
        "# Convert BoW matrix to a Pandas dataframe\n",
        "df_c_exp1 = pd.DataFrame(data=c_vector_matrix_exp1.toarray(), columns=c_tokens_exp1)\n",
        "# Print BoW Matrix\n",
        "print(\"BoW Matrix:\")\n",
        "print(df_c_exp1)"
      ],
      "metadata": {
        "colab": {
          "base_uri": "https://localhost:8080/"
        },
        "id": "hAgdyYFqp6Nn",
        "outputId": "b7d99174-fb51-47dc-fbc7-bcc6f7f37893"
      },
      "execution_count": 7,
      "outputs": [
        {
          "output_type": "stream",
          "name": "stdout",
          "text": [
            "BoW Matrix:\n",
            "   analysis  best  computer  courses  data  important  in  is  most  of  one  \\\n",
            "0         0     0         1        1     1          1   1   1     1   1    1   \n",
            "1         0     1         0        1     1          0   0   1     0   1    1   \n",
            "2         1     0         0        0     2          0   0   0     0   0    0   \n",
            "\n",
            "   perform  science  scientists  the  this  \n",
            "0        0        2           0    1     0  \n",
            "1        0        1           0    1     1  \n",
            "2        1        0           1    1     0  \n"
          ]
        }
      ]
    },
    {
      "cell_type": "code",
      "source": [
        "# Generate cosine similarity matrix using BoW vectors\n",
        "c_cosine_similarity_matrix_exp1 = cosine_similarity(c_vector_matrix_exp1)\n",
        "\n",
        "# Convert cosine similarity matrix to Pandas dataframe\n",
        "df_c_similarity_exp1 = pd.DataFrame(data=c_cosine_similarity_matrix_exp1)\n",
        "\n",
        "# Print BoW Cosine Similarity Matrix\n",
        "print(\"BoW Cosine Similarity Matrix:\")\n",
        "print(df_c_similarity_exp1)"
      ],
      "metadata": {
        "colab": {
          "base_uri": "https://localhost:8080/"
        },
        "id": "VOuYxHFZp_No",
        "outputId": "9e79fe08-9f05-4e62-8aca-1efea419b8ea"
      },
      "execution_count": 8,
      "outputs": [
        {
          "output_type": "stream",
          "name": "stdout",
          "text": [
            "BoW Cosine Similarity Matrix:\n",
            "          0         1         2\n",
            "0  1.000000  0.712697  0.283473\n",
            "1  0.712697  1.000000  0.353553\n",
            "2  0.283473  0.353553  1.000000\n"
          ]
        }
      ]
    },
    {
      "cell_type": "code",
      "source": [
        "# Create a reference object to the TfidfVectorizer constructor for TF\n",
        "tfidf_vect_tf = TfidfVectorizer(use_idf=False)\n",
        "t_tfidf_matrix_tf_exp1 = tfidf_vect_tf.fit_transform(data_exp1)\n",
        "\n",
        "# Convert TF matrix to a Pandas dataframe\n",
        "df_t_tf_exp1 = pd.DataFrame(data=t_tfidf_matrix_tf_exp1.toarray(), columns=c_tokens_exp1)\n",
        "\n",
        "# Print TF Matrix\n",
        "print(\"\\nTF Matrix:\")\n",
        "print(df_t_tf_exp1)\n"
      ],
      "metadata": {
        "colab": {
          "base_uri": "https://localhost:8080/"
        },
        "id": "56dQGnGuqGM0",
        "outputId": "7c70ec6b-25bb-4372-c34c-eb629c5d739b"
      },
      "execution_count": 9,
      "outputs": [
        {
          "output_type": "stream",
          "name": "stdout",
          "text": [
            "\n",
            "TF Matrix:\n",
            "   analysis      best  computer   courses      data  important        in  \\\n",
            "0  0.000000  0.000000  0.267261  0.267261  0.267261   0.267261  0.267261   \n",
            "1  0.000000  0.333333  0.000000  0.333333  0.333333   0.000000  0.000000   \n",
            "2  0.353553  0.000000  0.000000  0.000000  0.707107   0.000000  0.000000   \n",
            "\n",
            "         is      most        of       one   perform   science  scientists  \\\n",
            "0  0.267261  0.267261  0.267261  0.267261  0.000000  0.534522    0.000000   \n",
            "1  0.333333  0.000000  0.333333  0.333333  0.000000  0.333333    0.000000   \n",
            "2  0.000000  0.000000  0.000000  0.000000  0.353553  0.000000    0.353553   \n",
            "\n",
            "        the      this  \n",
            "0  0.267261  0.000000  \n",
            "1  0.333333  0.333333  \n",
            "2  0.353553  0.000000  \n"
          ]
        }
      ]
    },
    {
      "cell_type": "code",
      "source": [
        "# Create a reference object to the TfidfVectorizer constructor for IDF\n",
        "tfidf_vect_idf = TfidfVectorizer(use_idf=True, norm=None)\n",
        "t_tfidf_matrix_idf_exp1 = tfidf_vect_idf.fit_transform(data_exp1)\n",
        "\n",
        "# Convert IDF matrix to a Pandas dataframe\n",
        "df_t_idf_exp1 = pd.DataFrame(data=t_tfidf_matrix_idf_exp1.toarray(), columns=c_tokens_exp1)\n",
        "\n",
        "# Print IDF Matrix\n",
        "print(\"\\nIDF Matrix:\")\n",
        "print(df_t_idf_exp1)"
      ],
      "metadata": {
        "colab": {
          "base_uri": "https://localhost:8080/"
        },
        "id": "sIsUnRRGqUq5",
        "outputId": "f6f959f8-f216-4f93-9598-bc2ffeee70be"
      },
      "execution_count": 10,
      "outputs": [
        {
          "output_type": "stream",
          "name": "stdout",
          "text": [
            "\n",
            "IDF Matrix:\n",
            "   analysis      best  computer   courses  data  important        in  \\\n",
            "0  0.000000  0.000000  1.693147  1.287682   1.0   1.693147  1.693147   \n",
            "1  0.000000  1.693147  0.000000  1.287682   1.0   0.000000  0.000000   \n",
            "2  1.693147  0.000000  0.000000  0.000000   2.0   0.000000  0.000000   \n",
            "\n",
            "         is      most        of       one   perform   science  scientists  \\\n",
            "0  1.287682  1.693147  1.287682  1.287682  0.000000  2.575364    0.000000   \n",
            "1  1.287682  0.000000  1.287682  1.287682  0.000000  1.287682    0.000000   \n",
            "2  0.000000  0.000000  0.000000  0.000000  1.693147  0.000000    1.693147   \n",
            "\n",
            "   the      this  \n",
            "0  1.0  0.000000  \n",
            "1  1.0  1.693147  \n",
            "2  1.0  0.000000  \n"
          ]
        }
      ]
    },
    {
      "cell_type": "code",
      "source": [
        "# Combine TF and IDF matrices to get TF-IDF matrix\n",
        "t_tfidf_matrix_exp1 = t_tfidf_matrix_tf_exp1.multiply(t_tfidf_matrix_idf_exp1)\n",
        "\n",
        "# Print TF-IDF Matrix\n",
        "print(\"\\nTF-IDF Matrix:\")\n",
        "print(pd.DataFrame(data=t_tfidf_matrix_exp1.toarray(), columns=c_tokens_exp1))\n"
      ],
      "metadata": {
        "colab": {
          "base_uri": "https://localhost:8080/"
        },
        "id": "dxs6GuA0qrBL",
        "outputId": "b92667fe-c712-4874-f3af-9cfb0db43c16"
      },
      "execution_count": 11,
      "outputs": [
        {
          "output_type": "stream",
          "name": "stdout",
          "text": [
            "\n",
            "TF-IDF Matrix:\n",
            "   analysis      best  computer   courses      data  important        in  \\\n",
            "0  0.000000  0.000000  0.452513  0.344148  0.267261   0.452513  0.452513   \n",
            "1  0.000000  0.564382  0.000000  0.429227  0.333333   0.000000  0.000000   \n",
            "2  0.598618  0.000000  0.000000  0.000000  1.414214   0.000000  0.000000   \n",
            "\n",
            "         is      most        of       one   perform   science  scientists  \\\n",
            "0  0.344148  0.452513  0.344148  0.344148  0.000000  1.376590    0.000000   \n",
            "1  0.429227  0.000000  0.429227  0.429227  0.000000  0.429227    0.000000   \n",
            "2  0.000000  0.000000  0.000000  0.000000  0.598618  0.000000    0.598618   \n",
            "\n",
            "        the      this  \n",
            "0  0.267261  0.000000  \n",
            "1  0.333333  0.564382  \n",
            "2  0.353553  0.000000  \n"
          ]
        }
      ]
    },
    {
      "cell_type": "code",
      "source": [
        "# Generate cosine similarity matrix using TF-IDF vectors\n",
        "t_cosine_similarity_matrix_exp1 = cosine_similarity(t_tfidf_matrix_exp1)\n",
        "\n",
        "# Convert cosine similarity matrix to Pandas dataframe\n",
        "df_t_similarity_exp1 = pd.DataFrame(data=t_cosine_similarity_matrix_exp1)\n",
        "\n",
        "# Print TF-IDF Cosine Similarity Matrix\n",
        "print(\"\\nTF-IDF Cosine Similarity Matrix:\")\n",
        "print(df_t_similarity_exp1)"
      ],
      "metadata": {
        "colab": {
          "base_uri": "https://localhost:8080/"
        },
        "id": "ZdD9QBJJqyPU",
        "outputId": "a26b0ce4-6859-463b-f059-dba933e6dd48"
      },
      "execution_count": 12,
      "outputs": [
        {
          "output_type": "stream",
          "name": "stdout",
          "text": [
            "\n",
            "TF-IDF Cosine Similarity Matrix:\n",
            "          0         1         2\n",
            "0  1.000000  0.558444  0.144716\n",
            "1  0.558444  1.000000  0.246866\n",
            "2  0.144716  0.246866  1.000000\n"
          ]
        }
      ]
    },
    {
      "cell_type": "code",
      "source": [
        "# Import Manhattan and Euclidean distance functions\n",
        "from scipy.spatial.distance import cityblock\n",
        "\n",
        "# Calculate Manhattan distance between two document vectors using BoW (text1, text2)\n",
        "manhattan_distance_1_2_bow = cityblock(df_c_exp1.iloc[0], df_c_exp1.iloc[1])\n",
        "\n",
        "# Calculate Manhattan distance between two document vectors using BoW (text1, text3)\n",
        "manhattan_distance_1_3_bow = cityblock(df_c_exp1.iloc[0], df_c_exp1.iloc[2])\n",
        "\n",
        "# Calculate Manhattan distance between two document vectors using BoW (text2, text3)\n",
        "manhattan_distance_2_3_bow = cityblock(df_c_exp1.iloc[1], df_c_exp1.iloc[2])\n",
        "# Calculate Manhattan distance between two document vectors using TF-IDF (text1, text2)\n",
        "manhattan_distance_1_2_tfidf = cityblock(t_tfidf_matrix_exp1[0].toarray().flatten(), t_tfidf_matrix_exp1[1].toarray().flatten())\n",
        "\n",
        "# Calculate Manhattan distance between two document vectors using TF-IDF (text1, text3)\n",
        "manhattan_distance_1_3_tfidf = cityblock(t_tfidf_matrix_exp1[0].toarray().flatten(), t_tfidf_matrix_exp1[2].toarray().flatten())\n",
        "\n",
        "# Calculate Manhattan distance between two document vectors using TF-IDF (text2, text3)\n",
        "manhattan_distance_2_3_tfidf = cityblock(t_tfidf_matrix_exp1[1].toarray().flatten(), t_tfidf_matrix_exp1[2].toarray().flatten())\n",
        "\n"
      ],
      "metadata": {
        "id": "JbL79BKaredf"
      },
      "execution_count": 16,
      "outputs": []
    },
    {
      "cell_type": "code",
      "source": [
        "# Print Manhattan Distances\n",
        "print(\"\\nManhattan Distance (BoW) between text1 and text2:\", manhattan_distance_1_2_bow)\n",
        "print(\"Manhattan Distance (BoW) between text1 and text3:\", manhattan_distance_1_3_bow)\n",
        "print(\"Manhattan Distance (BoW) between text2 and text3:\", manhattan_distance_2_3_bow)\n",
        "print(\"\\nManhattan Distance (TF-IDF) between text1 and text2:\", manhattan_distance_1_2_tfidf)\n",
        "print(\"Manhattan Distance (TF-IDF) between text1 and text3:\", manhattan_distance_1_3_tfidf)\n",
        "print(\"Manhattan Distance (TF-IDF) between text2 and text3:\", manhattan_distance_2_3_tfidf)"
      ],
      "metadata": {
        "colab": {
          "base_uri": "https://localhost:8080/"
        },
        "id": "50UKwDDVtZr7",
        "outputId": "8df3f037-754a-485e-c681-f2c837240e55"
      },
      "execution_count": 17,
      "outputs": [
        {
          "output_type": "stream",
          "name": "stdout",
          "text": [
            "\n",
            "Manhattan Distance (BoW) between text1 and text2: 7\n",
            "Manhattan Distance (BoW) between text1 and text3: 14\n",
            "Manhattan Distance (BoW) between text2 and text3: 11\n",
            "\n",
            "Manhattan Distance (TF-IDF) between text1 and text2: 4.3586415152014455\n",
            "Manhattan Distance (TF-IDF) between text1 and text3: 7.592328800365255\n",
            "Manhattan Distance (TF-IDF) between text2 and text3: 6.171855640140532\n"
          ]
        }
      ]
    },
    {
      "cell_type": "code",
      "source": [
        "# Calculate Euclidean distance between two document vectors using BoW (text1, text2)\n",
        "euclidean_distance_1_2_bow = math.dist(df_c_exp1.iloc[0], df_c_exp1.iloc[1])\n",
        "\n",
        "# Calculate Euclidean distance between two document vectors using BoW (text1, text3)\n",
        "euclidean_distance_1_3_bow = math.dist(df_c_exp1.iloc[0], df_c_exp1.iloc[2])\n",
        "\n",
        "# Calculate Euclidean distance between two document vectors using BoW (text2, text3)\n",
        "euclidean_distance_2_3_bow = math.dist(df_c_exp1.iloc[1], df_c_exp1.iloc[2])\n",
        "\n",
        "from scipy.spatial.distance import euclidean\n",
        "\n",
        "# Calculate Euclidean distance between two document vectors using TF-IDF (text1, text2)\n",
        "euclidean_distance_1_2_tfidf = euclidean(t_tfidf_matrix_exp1[0].toarray().flatten(), t_tfidf_matrix_exp1[1].toarray().flatten())\n",
        "\n",
        "# Calculate Euclidean distance between two document vectors using TF-IDF (text1, text3)\n",
        "euclidean_distance_1_3_tfidf = euclidean(t_tfidf_matrix_exp1[0].toarray().flatten(), t_tfidf_matrix_exp1[2].toarray().flatten())\n",
        "\n",
        "# Calculate Euclidean distance between two document vectors using TF-IDF (text2, text3)\n",
        "euclidean_distance_2_3_tfidf = euclidean(t_tfidf_matrix_exp1[1].toarray().flatten(), t_tfidf_matrix_exp1[2].toarray().flatten())\n"
      ],
      "metadata": {
        "id": "lHmI0rCFtcSG"
      },
      "execution_count": 21,
      "outputs": []
    },
    {
      "cell_type": "code",
      "source": [
        "# Print Euclidean Distances\n",
        "print(\"\\nEuclidean Distance (BoW) between text1 and text2:\", euclidean_distance_1_2_bow)\n",
        "print(\"Euclidean Distance (BoW) between text1 and text3:\", euclidean_distance_1_3_bow)\n",
        "print(\"Euclidean Distance (BoW) between text2 and text3:\", euclidean_distance_2_3_bow)\n",
        "print(\"\\nEuclidean Distance (TF-IDF) between text1 and text2:\", euclidean_distance_1_2_tfidf)\n",
        "print(\"Euclidean Distance (TF-IDF) between text1 and text3:\", euclidean_distance_1_3_tfidf)\n",
        "print(\"Euclidean Distance (TF-IDF) between text2 and text3:\", euclidean_distance_2_3_tfidf)"
      ],
      "metadata": {
        "colab": {
          "base_uri": "https://localhost:8080/"
        },
        "id": "KPdg4p4Ztodc",
        "outputId": "84f6427f-6cc2-40f6-dfae-9f2f61d301c1"
      },
      "execution_count": 22,
      "outputs": [
        {
          "output_type": "stream",
          "name": "stdout",
          "text": [
            "\n",
            "Euclidean Distance (BoW) between text1 and text2: 2.6457513110645907\n",
            "Euclidean Distance (BoW) between text1 and text3: 4.0\n",
            "Euclidean Distance (BoW) between text2 and text3: 3.3166247903554\n",
            "\n",
            "Euclidean Distance (TF-IDF) between text1 and text2: 1.5463851611011727\n",
            "Euclidean Distance (TF-IDF) between text1 and text3: 2.3634290925634436\n",
            "Euclidean Distance (TF-IDF) between text2 and text3: 1.94986583645588\n"
          ]
        }
      ]
    }
  ]
}