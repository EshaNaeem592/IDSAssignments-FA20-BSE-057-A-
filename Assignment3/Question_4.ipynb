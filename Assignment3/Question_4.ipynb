{
  "nbformat": 4,
  "nbformat_minor": 0,
  "metadata": {
    "colab": {
      "provenance": []
    },
    "kernelspec": {
      "name": "python3",
      "display_name": "Python 3"
    },
    "language_info": {
      "name": "python"
    }
  },
  "cells": [
    {
      "cell_type": "code",
      "execution_count": 1,
      "metadata": {
        "id": "10Foovz6JB8q"
      },
      "outputs": [],
      "source": [
        "# 25-nov-2023\n",
        "# CSC461 – Assignment3 – Machine Learning\n",
        "# Esha Naeem\n",
        "# FA20-BSE-057(A)\n",
        "# A brief description of the task:In this task, the objective is to augment the existing gender prediction dataset by adding 10 sample instances, potentially obtained from friends, relatives, or siblings. Following this dataset expansion, the next step is to conduct a machine learning experiment using the Gaussian Naïve Bayes classification algorithm. The model is trained using all instances from the augmented dataset, and its performance is then evaluated using the newly added 10 test instances. The evaluation metrics to be reported include accuracy, precision, and recall scores. These metrics provide a comprehensive assessment of the model's effectiveness in correctly classifying gender labels.\n",
        "from google.colab import drive\n",
        "import pandas as pd\n",
        "from sklearn.model_selection import train_test_split\n",
        "from sklearn.naive_bayes import GaussianNB\n",
        "from sklearn.metrics import accuracy_score, precision_score, recall_score"
      ]
    },
    {
      "cell_type": "markdown",
      "source": [],
      "metadata": {
        "id": "vi2yK2LTm0VD"
      }
    },
    {
      "cell_type": "code",
      "source": [
        "# Mount Google Drive\n",
        "drive.mount('/content/drive')\n",
        "\n",
        "# Define the file path to your dataset\n",
        "file_path = \"/content/drive/MyDrive/Datasets/Mygender-prediction.csv\""
      ],
      "metadata": {
        "colab": {
          "base_uri": "https://localhost:8080/"
        },
        "id": "8PXuT4OmNA17",
        "outputId": "1f6a795a-5cac-4df0-e55c-5e092cbd32a7"
      },
      "execution_count": 2,
      "outputs": [
        {
          "output_type": "stream",
          "name": "stdout",
          "text": [
            "Drive already mounted at /content/drive; to attempt to forcibly remount, call drive.mount(\"/content/drive\", force_remount=True).\n"
          ]
        }
      ]
    },
    {
      "cell_type": "code",
      "source": [
        "# Define the 10 new test instances\n",
        "new_instances = [\n",
        "    [71, 151, 'no', 'medium', 40, 'yes', 'black', 'female'],\n",
        "    [72, 152, 'no', 'medium', 42, 'yes', 'brown', 'female'],\n",
        "    [49, 153, 'no', 'long', 37, 'no', 'black', 'female'],\n",
        "    [50, 155, 'no', 'long', 49, 'yes', 'brown', 'female'],\n",
        "    [67, 165, 'no', 'medium', 45, 'yes', 'blue', 'female'],\n",
        "    [43, 166, 'yes', 'short', 36, 'no', 'black', 'male'],\n",
        "    [70, 167, 'yes', 'short', 37, 'no', 'brown', 'male'],\n",
        "    [72, 168, 'yes', 'short', 38, 'no', 'brown', 'male'],\n",
        "    [68, 120, 'yes', 'short', 49, 'no', 'black', 'male'],\n",
        "    [69, 140, 'yes', 'short', 48, 'no', 'black', 'male']\n",
        "]\n"
      ],
      "metadata": {
        "id": "EAB3TJ8QNmHD"
      },
      "execution_count": 27,
      "outputs": []
    },
    {
      "cell_type": "code",
      "source": [
        "# Combine the existing dataset with the new instances\n",
        "new_df = pd.concat([df, pd.DataFrame(new_instances, columns=df.columns)])"
      ],
      "metadata": {
        "id": "hJgoScbNYehV"
      },
      "execution_count": 28,
      "outputs": []
    },
    {
      "cell_type": "markdown",
      "source": [
        "# New section"
      ],
      "metadata": {
        "id": "G_e1iaJHJF3i"
      }
    },
    {
      "cell_type": "code",
      "source": [
        "# Convert categorical columns to binary (0/1)\n",
        "new_df['beard'] = (new_df['beard'] == 'yes').astype(int)\n",
        "new_df['scarf'] = (new_df['scarf'] == 'yes').astype(int)"
      ],
      "metadata": {
        "id": "BdnsboGuYkuM"
      },
      "execution_count": 29,
      "outputs": []
    },
    {
      "cell_type": "code",
      "source": [
        "# Perform one-hot encoding for 'hair_length' and 'eye_color'\n",
        "new_df = pd.get_dummies(new_df, columns=['hair_length', 'eye_color'], drop_first=True)"
      ],
      "metadata": {
        "id": "Id0-m0EaYpgE"
      },
      "execution_count": 30,
      "outputs": []
    },
    {
      "cell_type": "code",
      "source": [
        "# Split the dataset into features (X) and target variable (y)\n",
        "X = new_df.drop('gender', axis=1)\n",
        "y = new_df['gender']"
      ],
      "metadata": {
        "id": "rcI_LtQpYq8T"
      },
      "execution_count": 31,
      "outputs": []
    },
    {
      "cell_type": "code",
      "source": [
        "# Split the data into training and testing sets\n",
        "X_train, X_test, y_train, y_test = train_test_split(X, y, test_size=10, random_state=42)\n"
      ],
      "metadata": {
        "id": "_08fX4D0YvsP"
      },
      "execution_count": 32,
      "outputs": []
    },
    {
      "cell_type": "code",
      "source": [
        "# Train the Gaussian Naïve Bayes model\n",
        "model = GaussianNB()\n",
        "model.fit(X_train, y_train)\n"
      ],
      "metadata": {
        "colab": {
          "base_uri": "https://localhost:8080/",
          "height": 75
        },
        "id": "eSvOuOefYycw",
        "outputId": "27f928b5-7f29-4c45-9f36-a1a45d890313"
      },
      "execution_count": 33,
      "outputs": [
        {
          "output_type": "execute_result",
          "data": {
            "text/plain": [
              "GaussianNB()"
            ],
            "text/html": [
              "<style>#sk-container-id-2 {color: black;background-color: white;}#sk-container-id-2 pre{padding: 0;}#sk-container-id-2 div.sk-toggleable {background-color: white;}#sk-container-id-2 label.sk-toggleable__label {cursor: pointer;display: block;width: 100%;margin-bottom: 0;padding: 0.3em;box-sizing: border-box;text-align: center;}#sk-container-id-2 label.sk-toggleable__label-arrow:before {content: \"▸\";float: left;margin-right: 0.25em;color: #696969;}#sk-container-id-2 label.sk-toggleable__label-arrow:hover:before {color: black;}#sk-container-id-2 div.sk-estimator:hover label.sk-toggleable__label-arrow:before {color: black;}#sk-container-id-2 div.sk-toggleable__content {max-height: 0;max-width: 0;overflow: hidden;text-align: left;background-color: #f0f8ff;}#sk-container-id-2 div.sk-toggleable__content pre {margin: 0.2em;color: black;border-radius: 0.25em;background-color: #f0f8ff;}#sk-container-id-2 input.sk-toggleable__control:checked~div.sk-toggleable__content {max-height: 200px;max-width: 100%;overflow: auto;}#sk-container-id-2 input.sk-toggleable__control:checked~label.sk-toggleable__label-arrow:before {content: \"▾\";}#sk-container-id-2 div.sk-estimator input.sk-toggleable__control:checked~label.sk-toggleable__label {background-color: #d4ebff;}#sk-container-id-2 div.sk-label input.sk-toggleable__control:checked~label.sk-toggleable__label {background-color: #d4ebff;}#sk-container-id-2 input.sk-hidden--visually {border: 0;clip: rect(1px 1px 1px 1px);clip: rect(1px, 1px, 1px, 1px);height: 1px;margin: -1px;overflow: hidden;padding: 0;position: absolute;width: 1px;}#sk-container-id-2 div.sk-estimator {font-family: monospace;background-color: #f0f8ff;border: 1px dotted black;border-radius: 0.25em;box-sizing: border-box;margin-bottom: 0.5em;}#sk-container-id-2 div.sk-estimator:hover {background-color: #d4ebff;}#sk-container-id-2 div.sk-parallel-item::after {content: \"\";width: 100%;border-bottom: 1px solid gray;flex-grow: 1;}#sk-container-id-2 div.sk-label:hover label.sk-toggleable__label {background-color: #d4ebff;}#sk-container-id-2 div.sk-serial::before {content: \"\";position: absolute;border-left: 1px solid gray;box-sizing: border-box;top: 0;bottom: 0;left: 50%;z-index: 0;}#sk-container-id-2 div.sk-serial {display: flex;flex-direction: column;align-items: center;background-color: white;padding-right: 0.2em;padding-left: 0.2em;position: relative;}#sk-container-id-2 div.sk-item {position: relative;z-index: 1;}#sk-container-id-2 div.sk-parallel {display: flex;align-items: stretch;justify-content: center;background-color: white;position: relative;}#sk-container-id-2 div.sk-item::before, #sk-container-id-2 div.sk-parallel-item::before {content: \"\";position: absolute;border-left: 1px solid gray;box-sizing: border-box;top: 0;bottom: 0;left: 50%;z-index: -1;}#sk-container-id-2 div.sk-parallel-item {display: flex;flex-direction: column;z-index: 1;position: relative;background-color: white;}#sk-container-id-2 div.sk-parallel-item:first-child::after {align-self: flex-end;width: 50%;}#sk-container-id-2 div.sk-parallel-item:last-child::after {align-self: flex-start;width: 50%;}#sk-container-id-2 div.sk-parallel-item:only-child::after {width: 0;}#sk-container-id-2 div.sk-dashed-wrapped {border: 1px dashed gray;margin: 0 0.4em 0.5em 0.4em;box-sizing: border-box;padding-bottom: 0.4em;background-color: white;}#sk-container-id-2 div.sk-label label {font-family: monospace;font-weight: bold;display: inline-block;line-height: 1.2em;}#sk-container-id-2 div.sk-label-container {text-align: center;}#sk-container-id-2 div.sk-container {/* jupyter's `normalize.less` sets `[hidden] { display: none; }` but bootstrap.min.css set `[hidden] { display: none !important; }` so we also need the `!important` here to be able to override the default hidden behavior on the sphinx rendered scikit-learn.org. See: https://github.com/scikit-learn/scikit-learn/issues/21755 */display: inline-block !important;position: relative;}#sk-container-id-2 div.sk-text-repr-fallback {display: none;}</style><div id=\"sk-container-id-2\" class=\"sk-top-container\"><div class=\"sk-text-repr-fallback\"><pre>GaussianNB()</pre><b>In a Jupyter environment, please rerun this cell to show the HTML representation or trust the notebook. <br />On GitHub, the HTML representation is unable to render, please try loading this page with nbviewer.org.</b></div><div class=\"sk-container\" hidden><div class=\"sk-item\"><div class=\"sk-estimator sk-toggleable\"><input class=\"sk-toggleable__control sk-hidden--visually\" id=\"sk-estimator-id-2\" type=\"checkbox\" checked><label for=\"sk-estimator-id-2\" class=\"sk-toggleable__label sk-toggleable__label-arrow\">GaussianNB</label><div class=\"sk-toggleable__content\"><pre>GaussianNB()</pre></div></div></div></div></div>"
            ]
          },
          "metadata": {},
          "execution_count": 33
        }
      ]
    },
    {
      "cell_type": "code",
      "source": [
        "# Predict the gender for the new instances\n",
        "predictions = model.predict(X_test)"
      ],
      "metadata": {
        "id": "-55ZE1ACY163"
      },
      "execution_count": 34,
      "outputs": []
    },
    {
      "cell_type": "code",
      "source": [
        "# Evaluate the model\n",
        "accuracy = accuracy_score(y_test, predictions)\n",
        "precision = precision_score(y_test, predictions, pos_label='male')\n",
        "recall = recall_score(y_test, predictions, pos_label='male')\n",
        "precision_female = precision_score(y_test, predictions, pos_label='female')\n",
        "recall_female = recall_score(y_test, predictions, pos_label='female')\n",
        "\n",
        "# Report the results\n",
        "print(f\"Accuracy: {accuracy:.2f}\")\n",
        "print(f\"Precision for male: {precision:.2f}\")\n",
        "print(f\"Recall for male: {recall:.2f}\")\n",
        "print(f\"Precision for female: {precision_female:.2f}\")\n",
        "print(f\"Recall for female: {recall_female:.2f}\")"
      ],
      "metadata": {
        "colab": {
          "base_uri": "https://localhost:8080/"
        },
        "id": "_D2FU-sUY4ah",
        "outputId": "c42dee3c-e9b1-4885-8168-acf548cb38d6"
      },
      "execution_count": 37,
      "outputs": [
        {
          "output_type": "stream",
          "name": "stdout",
          "text": [
            "Accuracy: 0.90\n",
            "Precision for male: 0.86\n",
            "Recall for male: 1.00\n",
            "Precision for female: 1.00\n",
            "Recall for female: 0.75\n"
          ]
        }
      ]
    }
  ]
}