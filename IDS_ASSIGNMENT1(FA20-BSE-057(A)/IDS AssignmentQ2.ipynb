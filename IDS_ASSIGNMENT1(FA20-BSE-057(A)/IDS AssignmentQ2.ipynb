{
 "cells": [
  {
   "cell_type": "code",
   "execution_count": 5,
   "metadata": {},
   "outputs": [],
   "source": [
    "\n",
    "# 17-sep-2023\n",
    "# CSC461 – IDS Assignment1 – Web Scraping\n",
    "# Esha Naeem\n",
    "# FA20-BSE-057(A)\n",
    "# A brief description of the task IS: From 'timeanddate' website, retrieve the names of individuals who share my birthdate(5th sep).From 'britannica' website, retrieve significant historical events that occurred on my birthdate.After gathering this data, write it into the text file with proper formatting and indentation.\n",
    "import requests\n",
    "from bs4 import BeautifulSoup"
   ]
  },
  {
   "cell_type": "code",
   "execution_count": 6,
   "metadata": {},
   "outputs": [
    {
     "name": "stdout",
     "output_type": "stream",
     "text": [
      "Colt\n",
      "Freddie\n",
      "Werner\n",
      "Jesse\n",
      "Louis\n",
      "['Colt', 'Freddie', 'Werner', 'Jesse', 'Louis']\n"
     ]
    }
   ],
   "source": [
    "url = 'https://www.timeanddate.com/on-this-day/september/5'\n",
    "event_page = requests.get(url, headers = {\"User-Agent\": 'Mozilla/5.0'})\n",
    "soup_event = BeautifulSoup(event_page.content, \"html.parser\")\n",
    "\n",
    "div_event = soup_event.find(\"div\", {\"class\": \"otd-life__block\"})\n",
    "ul_event = div_event.find(\"ul\")\n",
    "\n",
    "\n",
    "names = []\n",
    "h3_event = ul_event.find_all(\"h3\")\n",
    "\n",
    "for h3 in h3_event:\n",
    "    print(h3.text.split(\" \")[1])\n",
    "    names.append(h3.text.split(\" \")[1])\n",
    "    \n",
    "print(names)\n"
   ]
  },
  {
   "cell_type": "code",
   "execution_count": 13,
   "metadata": {},
   "outputs": [
    {
     "name": "stdout",
     "output_type": "stream",
     "text": [
      " Important events on my birthdate(5th semester) (from 'britannica' website):\n",
      "\n",
      "1. American writer and political activist Phyllis Schlafly, who was best known for her opposition to the women's movement and especially the Equal Rights Amendment, died at age 92. Test your knowledge of female activistsU.S. News and World Report Magazine Photograph Collection/Library of Congress, Washington, D.C. (digital file no. LC-DIG-ds-00757)\n",
      "\n",
      "2. Tuvalu, a group of nine coral islands in the west-central Pacific with a population of about 10,000, became the 189th member of the United Nations. Sort fact from fiction in our quiz about the islands of the worldEncyclopædia Britannica, Inc.\n",
      "\n",
      "3. Mother Teresa—who was awarded the 1979 Nobel Peace Prize for her charitable work with the poor, especially in India—died at age 87 in Calcutta (Kolkata). Take our quiz about Christian saintsB. Lane/UN Photo\n",
      "\n",
      "4. The first episode of The Muppet Show, which was cocreated by Jim Henson, aired, and the TV series became hugely popular, known for a cast of puppet characters that included Kermit the Frog and Miss Piggy. Test your knowledge of pop cultureAP/Shutterstock.com\n",
      "\n",
      "5. Lynette (“Squeaky”) Fromme attempted to assassinate U.S. President Gerald R. Ford; Fromme, a follower of Charles Manson, was sentenced to life in prison but was released in 2009. Sort fact from fiction in our quiz about U.S. presidentsThe Gerald R. Ford Presidential Library and Museum\n",
      "\n",
      "6. Palestinian terrorists attacked the Olympic Village in Munich, West Germany, during the Summer Olympic Games, taking hostages and eventually killing 11 members of the Israeli team. Watch an overview of the Munich massacreFairfax Media—The Sydney Morning Herald/Getty Images\n",
      "\n",
      "7. American boxer Muhammad Ali (then known as Cassius Clay) won the gold medal in the 175-pound division at the 1960 Olympic Games in Rome and then embarked on a professional career that saw him become one of the sport's most legendary competitors. Watch an overview of Muhammad Ali's life and careerAP Images\n",
      "\n",
      "8. Jack Kerouac's On the Road, one of the first novels associated with the Beat movement, was published. Test your knowledge of famous novelsHulton Archive/Getty Images\n",
      "\n",
      "9. Sam Houston was elected president of the Republic of Texas. Sort fact from fiction in our quiz about U.S. statesLibrary of Congress, Washington, D.C.\n",
      "\n",
      "10. The Reign of Terror began as harsh measures were undertaken against those suspected of being enemies of the French Revolution (nobles, priests, and hoarders); in Paris a wave of executions followed. Learn about the causes and effects of the Reign of Terror© Photos.com/Getty Images\n",
      "\n",
      "11. Caspar David Friedrich, a pioneering early 19th-century German Romantic painter, was born. Take our ultimate art quizStaatliche Museen zu Berlin—Preussischer Kulturbesitz\n",
      "\n",
      "12. Marie Leszczyńska of Poland was married to King Louis XV of France. Test your knowledge of French historyGiraudon—Art Resource/Encyclopædia Britannica, Inc.\n",
      "\n"
     ]
    }
   ],
   "source": [
    "# Define the URL for the Britannica website\n",
    "url = \"https://www.britannica.com/on-this-day/September-5\"\n",
    "\n",
    "# Send an HTTP GET request to the URL with headers\n",
    "page = requests.get(url, headers={\"User-Agent\": \"Mozilla/5.0\"})\n",
    "\n",
    "# Parse the HTML content of the page\n",
    "soup = BeautifulSoup(page.content, \"html.parser\")\n",
    "\n",
    "# Find the container div for events\n",
    "events_container = soup.find(\"div\", {\"class\": \"border-top py-30\"})\n",
    "\n",
    "# Find all divs containing event details\n",
    "event_divs = events_container.find_all(\"div\", {\"class\": \"card-body font-serif\"})\n",
    "\n",
    "# Initialize an empty list to store event descriptions\n",
    "events = []\n",
    "\n",
    "# Iterate through event divs and extract event descriptions\n",
    "for event_div in event_divs:\n",
    "    event_text = event_div.text.strip()\n",
    "    events.append(event_text)\n",
    "\n",
    "# Print the events with proper indentation\n",
    "print(\" Important events on my birthdate(5th september) (from 'britannica' website):\\n\")\n",
    "for i, event in enumerate(events, 1):\n",
    "    print(f\"{i}. {event}\\n\")\n"
   ]
  },
  {
   "cell_type": "code",
   "execution_count": 14,
   "metadata": {},
   "outputs": [
    {
     "data": {
      "text/plain": [
       "[\"American writer and political activist Phyllis Schlafly, who was best known for her opposition to the women's movement and especially the Equal Rights Amendment, died at age 92. Test your knowledge of female activistsU.S. News and World Report Magazine Photograph Collection/Library of Congress, Washington, D.C. (digital file no. LC-DIG-ds-00757)\",\n",
       " 'Tuvalu, a group of nine coral islands in the west-central Pacific with a population of about 10,000, became the 189th member of the United Nations. Sort fact from fiction in our quiz about the islands of the worldEncyclopædia Britannica, Inc.',\n",
       " 'Mother Teresa—who was awarded the 1979 Nobel Peace Prize for her charitable work with the poor, especially in India—died at age 87 in Calcutta (Kolkata). Take our quiz about Christian saintsB. Lane/UN Photo',\n",
       " 'The first episode of The Muppet Show, which was cocreated by Jim Henson, aired, and the TV series became hugely popular, known for a cast of puppet characters that included Kermit the Frog and Miss Piggy. Test your knowledge of pop cultureAP/Shutterstock.com',\n",
       " 'Lynette (“Squeaky”) Fromme attempted to assassinate U.S. President Gerald R. Ford; Fromme, a follower of Charles Manson, was sentenced to life in prison but was released in 2009. Sort fact from fiction in our quiz about U.S. presidentsThe Gerald R. Ford Presidential Library and Museum',\n",
       " 'Palestinian terrorists attacked the Olympic Village in Munich, West Germany, during the Summer Olympic Games, taking hostages and eventually killing 11 members of the Israeli team. Watch an overview of the Munich massacreFairfax Media—The Sydney Morning Herald/Getty Images',\n",
       " \"American boxer Muhammad Ali (then known as Cassius Clay) won the gold medal in the 175-pound division at the 1960 Olympic Games in Rome and then embarked on a professional career that saw him become one of the sport's most legendary competitors. Watch an overview of Muhammad Ali's life and careerAP Images\",\n",
       " \"Jack Kerouac's On the Road, one of the first novels associated with the Beat movement, was published. Test your knowledge of famous novelsHulton Archive/Getty Images\",\n",
       " 'Sam Houston was elected president of the Republic of Texas. Sort fact from fiction in our quiz about U.S. statesLibrary of Congress, Washington, D.C.',\n",
       " 'The Reign of Terror began as harsh measures were undertaken against those suspected of being enemies of the French Revolution (nobles, priests, and hoarders); in Paris a wave of executions followed. Learn about the causes and effects of the Reign of Terror© Photos.com/Getty Images',\n",
       " 'Caspar David Friedrich, a pioneering early 19th-century German Romantic painter, was born. Take our ultimate art quizStaatliche Museen zu Berlin—Preussischer Kulturbesitz',\n",
       " 'Marie Leszczyńska of Poland was married to King Louis XV of France. Test your knowledge of French historyGiraudon—Art Resource/Encyclopædia Britannica, Inc.']"
      ]
     },
     "execution_count": 14,
     "metadata": {},
     "output_type": "execute_result"
    }
   ],
   "source": [
    "events"
   ]
  },
  {
   "cell_type": "code",
   "execution_count": 24,
   "metadata": {},
   "outputs": [],
   "source": [
    "# Open the file for writing\n",
    "f = open(\"data.txt\", \"w\", encoding=\"utf-8\")\n",
    "\n",
    "# Write a header for your birthday\n",
    "f.write(\"---------MY BIRTHDAY IS SEPTEMBER 5th-----------------------\\n\\n\")\n",
    "\n",
    "# Write the personalities' names with numbering\n",
    "f.write(\"----------------Names-----------------\\n\")\n",
    "for i, name in enumerate(names, 1):\n",
    "    f.write(f\"{i}. {name}\\n\")\n",
    "\n",
    "# Write a header for important events\n",
    "f.write(\"\\n---------------Events------------------\\n\")\n",
    "\n",
    "# Write the events with numbering\n",
    "for i, event in enumerate(events, 1):\n",
    "    f.write(f\"{i}. {event}\\n\")\n",
    "\n",
    "# Close the file\n",
    "f.close()\n"
   ]
  },
  {
   "cell_type": "code",
   "execution_count": 25,
   "metadata": {},
   "outputs": [
    {
     "name": "stdout",
     "output_type": "stream",
     "text": [
      "---------MY BIRTHDAY IS SEPTEMBER 5th-----------------------\n",
      "\n",
      "----------------Names-----------------\n",
      "1. Colt\n",
      "2. Freddie\n",
      "3. Werner\n",
      "4. Jesse\n",
      "5. Louis\n",
      "\n",
      "---------------Events------------------\n",
      "1. American writer and political activist Phyllis Schlafly, who was best known for her opposition to the women's movement and especially the Equal Rights Amendment, died at age 92. Test your knowledge of female activistsU.S. News and World Report Magazine Photograph Collection/Library of Congress, Washington, D.C. (digital file no. LC-DIG-ds-00757)\n",
      "2. Tuvalu, a group of nine coral islands in the west-central Pacific with a population of about 10,000, became the 189th member of the United Nations. Sort fact from fiction in our quiz about the islands of the worldEncyclopædia Britannica, Inc.\n",
      "3. Mother Teresa—who was awarded the 1979 Nobel Peace Prize for her charitable work with the poor, especially in India—died at age 87 in Calcutta (Kolkata). Take our quiz about Christian saintsB. Lane/UN Photo\n",
      "4. The first episode of The Muppet Show, which was cocreated by Jim Henson, aired, and the TV series became hugely popular, known for a cast of puppet characters that included Kermit the Frog and Miss Piggy. Test your knowledge of pop cultureAP/Shutterstock.com\n",
      "5. Lynette (“Squeaky”) Fromme attempted to assassinate U.S. President Gerald R. Ford; Fromme, a follower of Charles Manson, was sentenced to life in prison but was released in 2009. Sort fact from fiction in our quiz about U.S. presidentsThe Gerald R. Ford Presidential Library and Museum\n",
      "6. Palestinian terrorists attacked the Olympic Village in Munich, West Germany, during the Summer Olympic Games, taking hostages and eventually killing 11 members of the Israeli team. Watch an overview of the Munich massacreFairfax Media—The Sydney Morning Herald/Getty Images\n",
      "7. American boxer Muhammad Ali (then known as Cassius Clay) won the gold medal in the 175-pound division at the 1960 Olympic Games in Rome and then embarked on a professional career that saw him become one of the sport's most legendary competitors. Watch an overview of Muhammad Ali's life and careerAP Images\n",
      "8. Jack Kerouac's On the Road, one of the first novels associated with the Beat movement, was published. Test your knowledge of famous novelsHulton Archive/Getty Images\n",
      "9. Sam Houston was elected president of the Republic of Texas. Sort fact from fiction in our quiz about U.S. statesLibrary of Congress, Washington, D.C.\n",
      "10. The Reign of Terror began as harsh measures were undertaken against those suspected of being enemies of the French Revolution (nobles, priests, and hoarders); in Paris a wave of executions followed. Learn about the causes and effects of the Reign of Terror© Photos.com/Getty Images\n",
      "11. Caspar David Friedrich, a pioneering early 19th-century German Romantic painter, was born. Take our ultimate art quizStaatliche Museen zu Berlin—Preussischer Kulturbesitz\n",
      "12. Marie Leszczyńska of Poland was married to King Louis XV of France. Test your knowledge of French historyGiraudon—Art Resource/Encyclopædia Britannica, Inc.\n",
      "\n"
     ]
    }
   ],
   "source": [
    "f = open(\"data.txt\", \"r\", encoding=\"utf-8\")\n",
    "\n",
    "print(f.read())"
   ]
  }
 ],
 "metadata": {
  "kernelspec": {
   "display_name": "Python 3",
   "language": "python",
   "name": "python3"
  },
  "language_info": {
   "codemirror_mode": {
    "name": "ipython",
    "version": 3
   },
   "file_extension": ".py",
   "mimetype": "text/x-python",
   "name": "python",
   "nbconvert_exporter": "python",
   "pygments_lexer": "ipython3",
   "version": "3.11.4"
  },
  "orig_nbformat": 4
 },
 "nbformat": 4,
 "nbformat_minor": 2
}
