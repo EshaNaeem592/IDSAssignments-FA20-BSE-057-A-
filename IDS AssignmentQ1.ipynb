{
 "cells": [
  {
   "cell_type": "code",
   "execution_count": 5,
   "metadata": {},
   "outputs": [],
   "source": [
    "\n",
    "# 18-sep-2023\n",
    "# CSC461 – IDS Assignment1 – Web Scraping\n",
    "# Esha Naeem\n",
    "# FA20-BSE-057(A)\n",
    "# A brief description of the task IS: Prepare a list of IMDb movie URLs for your favorite movies. Iterate through the URLs.For each URL, fetch the webpage, parse it using BeautifulSoup, and extract the movie title and rating.Add a 1-second delay between requests to avoid overloading IMDb's servers.Store the extracted data.THEN Export the data to an Excel file.\n",
    "import requests\n",
    "from bs4 import BeautifulSoup\n",
    "import time\n"
   ]
  },
  {
   "cell_type": "code",
   "execution_count": 12,
   "metadata": {},
   "outputs": [
    {
     "name": "stdout",
     "output_type": "stream",
     "text": [
      "{'The Shawshank Redemption': '9.3', 'Shingeki no Kyojin': '9.0', 'Talk to Me': '7.3', 'What We Do in the Shadows': '8.6', 'Stranger Things': '8.7'}\n"
     ]
    }
   ],
   "source": [
    "\n",
    "\n",
    "\n",
    "\n",
    "# List of IMDb movie URLs\n",
    "urls = [\n",
    "    'https://www.imdb.com/title/tt0111161/',\n",
    "    'https://www.imdb.com/title/tt2560140/',\n",
    "    'https://www.imdb.com/title/tt10638522/',\n",
    "    'https://www.imdb.com/title/tt7908628/',\n",
    "    'https://www.imdb.com/title/tt4574334/'\n",
    "]\n",
    "\n",
    "\n",
    "\n",
    "data = {}\n",
    "for url in urls:\n",
    "    page = requests.get(url, headers = {\"User-Agent\": 'Mozilla/5.0'})\n",
    "    soup = BeautifulSoup(page.content, \"html.parser\")\n",
    "    \n",
    "    whole_div = soup.find(\"div\", {\"class\": \"sc-e226b0e3-3 jJsEuz\"})\n",
    "    both_divs = whole_div.find_all(\"div\")\n",
    "    \n",
    "    name_div = both_divs[0]\n",
    "    rating_div = both_divs[1]\n",
    "    \n",
    "\n",
    "    \n",
    "    \n",
    "    rating = rating_div.find(\"span\", {\"class\" : \"sc-bde20123-1 iZlgcd\" }).text\n",
    "    \n",
    "#     print(rating_div.find(\"span\", {\"class\" : \"sc-bde20123-1 iZlgcd\" }))\n",
    "    \n",
    "    data[name_div.h1.span.text] = rating\n",
    "    \n",
    "  # Sleep for 1 second to avoid overloading IMDb's servers\n",
    "    time.sleep(1)\n",
    "    \n",
    "    \n",
    "print(data)"
   ]
  },
  {
   "cell_type": "code",
   "execution_count": 20,
   "metadata": {},
   "outputs": [],
   "source": [
    "import pandas as pd\n",
    "df = pd.DataFrame(data,index = [0]);\n",
    "df.to_excel(\"movie_ratings.xlsx\", index=False)\n"
   ]
  },
  {
   "cell_type": "code",
   "execution_count": 21,
   "metadata": {},
   "outputs": [],
   "source": [
    "excel = pd.read_excel(\"movie_ratings.xlsx\")"
   ]
  },
  {
   "cell_type": "code",
   "execution_count": 23,
   "metadata": {},
   "outputs": [
    {
     "data": {
      "text/html": [
       "<div>\n",
       "<style scoped>\n",
       "    .dataframe tbody tr th:only-of-type {\n",
       "        vertical-align: middle;\n",
       "    }\n",
       "\n",
       "    .dataframe tbody tr th {\n",
       "        vertical-align: top;\n",
       "    }\n",
       "\n",
       "    .dataframe thead th {\n",
       "        text-align: right;\n",
       "    }\n",
       "</style>\n",
       "<table border=\"1\" class=\"dataframe\">\n",
       "  <thead>\n",
       "    <tr style=\"text-align: right;\">\n",
       "      <th></th>\n",
       "      <th>The Shawshank Redemption</th>\n",
       "      <th>Shingeki no Kyojin</th>\n",
       "      <th>Talk to Me</th>\n",
       "      <th>What We Do in the Shadows</th>\n",
       "      <th>Stranger Things</th>\n",
       "    </tr>\n",
       "  </thead>\n",
       "  <tbody>\n",
       "    <tr>\n",
       "      <th>0</th>\n",
       "      <td>9.3</td>\n",
       "      <td>9.0</td>\n",
       "      <td>7.3</td>\n",
       "      <td>8.6</td>\n",
       "      <td>8.7</td>\n",
       "    </tr>\n",
       "  </tbody>\n",
       "</table>\n",
       "</div>"
      ],
      "text/plain": [
       "   The Shawshank Redemption  Shingeki no Kyojin  Talk to Me  \\\n",
       "0                       9.3                 9.0         7.3   \n",
       "\n",
       "   What We Do in the Shadows  Stranger Things  \n",
       "0                        8.6              8.7  "
      ]
     },
     "execution_count": 23,
     "metadata": {},
     "output_type": "execute_result"
    }
   ],
   "source": [
    "excel"
   ]
  },
  {
   "cell_type": "code",
   "execution_count": null,
   "metadata": {},
   "outputs": [],
   "source": []
  }
 ],
 "metadata": {
  "kernelspec": {
   "display_name": "Python 3",
   "language": "python",
   "name": "python3"
  },
  "language_info": {
   "codemirror_mode": {
    "name": "ipython",
    "version": 3
   },
   "file_extension": ".py",
   "mimetype": "text/x-python",
   "name": "python",
   "nbconvert_exporter": "python",
   "pygments_lexer": "ipython3",
   "version": "3.11.4"
  }
 },
 "nbformat": 4,
 "nbformat_minor": 4
}
